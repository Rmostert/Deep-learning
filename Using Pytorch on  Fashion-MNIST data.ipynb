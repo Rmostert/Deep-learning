{
 "cells": [
  {
   "cell_type": "markdown",
   "metadata": {},
   "source": [
    "# Background - Classifying Fashion-MNIST\n",
    "\n",
    "In this project we'll be using the [Fashion-MNIST dataset](https://github.com/zalandoresearch/fashion-mnist), a drop-in replacement for the MNIST dataset. MNIST is actually quite trivial with neural networks where you can easily achieve better than 97% accuracy. Fashion-MNIST is a set of 28x28 greyscale images of clothes. It's more complex than MNIST, so it's a better representation of the actual performance of your network, and a better representation of datasets you'll use in the real world.\n",
    "\n",
    "<img src='assets/fashion-mnist-sprite.png' width=500px>\n",
    "\n",
    "First off, let's load the dataset through torchvision."
   ]
  },
  {
   "cell_type": "code",
   "execution_count": 23,
   "metadata": {
    "ExecuteTime": {
     "end_time": "2018-07-15T17:05:14.584543Z",
     "start_time": "2018-07-15T17:05:14.510621Z"
    }
   },
   "outputs": [],
   "source": [
    "%matplotlib inline\n",
    "%config InlineBackend.figure_format = 'retina'\n",
    "\n",
    "import matplotlib.pyplot as plt\n",
    "import numpy as np\n",
    "import time\n",
    "\n",
    "import torch\n",
    "from torch import nn\n",
    "from torch import optim\n",
    "import torch.nn.functional as F\n",
    "from torchvision import datasets, transforms\n",
    "\n",
    "import helper"
   ]
  },
  {
   "cell_type": "code",
   "execution_count": 24,
   "metadata": {
    "ExecuteTime": {
     "end_time": "2018-07-15T17:05:15.207719Z",
     "start_time": "2018-07-15T17:05:15.163019Z"
    }
   },
   "outputs": [],
   "source": [
    "means = [0.5, 0.5, 0.5]\n",
    "stdevs = [0.5, 0.5, 0.5]\n",
    "\n",
    "\n",
    "# Define a transform to normalize the data\n",
    "transform = transforms.Compose([transforms.ToTensor(),\n",
    "                                transforms.Normalize(means, stdevs)])\n",
    "# Download and load the training data\n",
    "trainset = datasets.FashionMNIST('F_MNIST_data/', download=True, train=True, transform=transform)\n",
    "trainloader = torch.utils.data.DataLoader(trainset, batch_size=64, shuffle=True)\n",
    "\n",
    "# Download and load the test data\n",
    "testset = datasets.FashionMNIST('F_MNIST_data/', download=True, train=False, transform=transform)\n",
    "testloader = torch.utils.data.DataLoader(testset, batch_size=64, shuffle=True)"
   ]
  },
  {
   "cell_type": "code",
   "execution_count": 104,
   "metadata": {
    "ExecuteTime": {
     "end_time": "2018-07-15T18:05:21.466128Z",
     "start_time": "2018-07-15T18:05:21.462265Z"
    }
   },
   "outputs": [],
   "source": [
    "training_size = len(trainloader)*64\n",
    "test_size = len(testloader)*64"
   ]
  },
  {
   "cell_type": "code",
   "execution_count": 105,
   "metadata": {
    "ExecuteTime": {
     "end_time": "2018-07-15T18:05:37.690580Z",
     "start_time": "2018-07-15T18:05:37.684716Z"
    }
   },
   "outputs": [
    {
     "name": "stdout",
     "output_type": "stream",
     "text": [
      "Number of training images: 60032\n",
      "Number of test images: 10048\n"
     ]
    }
   ],
   "source": [
    "print('Number of training images: {}'.format(training_size))\n",
    "print('Number of test images: {}'.format(test_size))"
   ]
  },
  {
   "cell_type": "markdown",
   "metadata": {},
   "source": [
    "Here we can see one of the images."
   ]
  },
  {
   "cell_type": "code",
   "execution_count": 89,
   "metadata": {
    "ExecuteTime": {
     "end_time": "2018-07-15T17:28:11.285859Z",
     "start_time": "2018-07-15T17:28:11.251427Z"
    }
   },
   "outputs": [],
   "source": [
    "def imshow(image, ax=None, title=None, normalize=True):\n",
    "    \"\"\"Imshow for Tensor.\"\"\"\n",
    "    if ax is None:\n",
    "        fig, ax = plt.subplots()\n",
    "    image = image.numpy().transpose((1, 2, 0))\n",
    "\n",
    "    if normalize:\n",
    "        mean = np.array(means)\n",
    "        std = np.array(stdevs)\n",
    "        image = std * image + mean\n",
    "        image = np.clip(image, 0, 1)\n",
    "\n",
    "    ax.imshow(image)\n",
    "    ax.spines['top'].set_visible(False)\n",
    "    ax.spines['right'].set_visible(False)\n",
    "    ax.spines['left'].set_visible(False)\n",
    "    ax.spines['bottom'].set_visible(False)\n",
    "    ax.tick_params(axis='both', length=0)\n",
    "    ax.set_xticklabels('')\n",
    "    ax.set_yticklabels('')\n",
    "\n",
    "    return ax"
   ]
  },
  {
   "cell_type": "code",
   "execution_count": 90,
   "metadata": {
    "ExecuteTime": {
     "end_time": "2018-07-15T17:28:11.795728Z",
     "start_time": "2018-07-15T17:28:11.604584Z"
    }
   },
   "outputs": [
    {
     "data": {
      "text/plain": [
       "<matplotlib.axes._subplots.AxesSubplot at 0x1143bb668>"
      ]
     },
     "execution_count": 90,
     "metadata": {},
     "output_type": "execute_result"
    },
    {
     "data": {
      "image/png": "[encoded data removed]",
      "text/plain": [
       "<Figure size 432x288 with 1 Axes>"
      ]
     },
     "metadata": {
      "image/png": {
       "height": 233,
       "width": 233
      }
     },
     "output_type": "display_data"
    }
   ],
   "source": [
    "images, label = next(iter(trainloader))\n",
    "imshow(images[0])\n",
    "\n"
   ]
  },
  {
   "cell_type": "markdown",
   "metadata": {},
   "source": [
    "## Building the network\n",
    "\n",
    "Here we define our network. As with MNIST, each image is 28x28 which is a total of 784 pixels, and there are 10 classes. We'll make use of the ReLU activations for the layers and to return the logits from the forward pass. "
   ]
  },
  {
   "cell_type": "code",
   "execution_count": 91,
   "metadata": {
    "ExecuteTime": {
     "end_time": "2018-07-15T17:30:17.442624Z",
     "start_time": "2018-07-15T17:30:17.420934Z"
    }
   },
   "outputs": [
    {
     "data": {
      "text/plain": [
       "Sequential(\n",
       "  (fc1): Linear(in_features=784, out_features=256, bias=True)\n",
       "  (relu1): ReLU()\n",
       "  (fc2): Linear(in_features=256, out_features=128, bias=True)\n",
       "  (relu2): ReLU()\n",
       "  (fc3): Linear(in_features=128, out_features=64, bias=True)\n",
       "  (relu3): ReLU()\n",
       "  (logits): Linear(in_features=64, out_features=10, bias=True)\n",
       ")"
      ]
     },
     "execution_count": 91,
     "metadata": {},
     "output_type": "execute_result"
    }
   ],
   "source": [
    "from collections import OrderedDict\n",
    "\n",
    "# TODO: Define your network architecture here\n",
    "input_size = 28 * 28\n",
    "hidden_sizes = [256,128,64]\n",
    "output_size = 10\n",
    "model = nn.Sequential(OrderedDict([\n",
    "    ('fc1', nn.Linear(in_features=input_size,out_features= hidden_sizes[0])),\n",
    "    ('relu1', nn.ReLU()),\n",
    "    ('fc2', nn.Linear(in_features=hidden_sizes[0],out_features= hidden_sizes[1])),\n",
    "    ('relu2', nn.ReLU()),   \n",
    "    ('fc3', nn.Linear(in_features=hidden_sizes[1],out_features= hidden_sizes[2])),\n",
    "    ('relu3', nn.ReLU()),   \n",
    "    ('logits', nn.Linear(hidden_sizes[2], out_features=output_size))]))\n",
    "model                                   "
   ]
  },
  {
   "cell_type": "markdown",
   "metadata": {},
   "source": [
    "# Train the network\n",
    "\n",
    "Now we can train our network. First we'll want to define [the criterion](http://pytorch.org/docs/master/nn.html#loss-functions) ( something like `nn.CrossEntropyLoss`) and [the optimizer](http://pytorch.org/docs/master/optim.html) (typically `optim.SGD` or `optim.Adam`).\n",
    "\n",
    "Then we'll write the training code. Remember the training pass is a fairly straightforward process:\n",
    "\n",
    "* Make a forward pass through the network to get the logits \n",
    "* Use the logits to calculate the loss\n",
    "* Perform a backward pass through the network with `loss.backward()` to calculate the gradients\n",
    "* Take a step with the optimizer to update the weights\n",
    "\n"
   ]
  },
  {
   "cell_type": "code",
   "execution_count": 93,
   "metadata": {
    "ExecuteTime": {
     "end_time": "2018-07-15T17:33:30.665965Z",
     "start_time": "2018-07-15T17:33:30.661295Z"
    }
   },
   "outputs": [],
   "source": [
    "criterion = nn.CrossEntropyLoss()\n",
    "optimizer = optim.Adam(model.parameters())"
   ]
  },
  {
   "cell_type": "code",
   "execution_count": 94,
   "metadata": {
    "ExecuteTime": {
     "end_time": "2018-07-15T17:48:50.169285Z",
     "start_time": "2018-07-15T17:34:07.688321Z"
    }
   },
   "outputs": [
    {
     "name": "stdout",
     "output_type": "stream",
     "text": [
      "Epoch: 1/50...  Loss: 0.9249\n",
      "Epoch: 1/50...  Loss: 0.5664\n",
      "Epoch: 1/50...  Loss: 0.5030\n",
      "Epoch: 1/50...  Loss: 0.4943\n",
      "Epoch: 1/50...  Loss: 0.4834\n",
      "Epoch: 1/50...  Loss: 0.4599\n",
      "Epoch: 1/50...  Loss: 0.4486\n",
      "Epoch: 1/50...  Loss: 0.4244\n",
      "Epoch: 1/50...  Loss: 0.4026\n",
      "Epoch: 2/50...  Loss: 0.2388\n",
      "Epoch: 2/50...  Loss: 0.3826\n",
      "Epoch: 2/50...  Loss: 0.3901\n",
      "Epoch: 2/50...  Loss: 0.3936\n",
      "Epoch: 2/50...  Loss: 0.3894\n",
      "Epoch: 2/50...  Loss: 0.3641\n",
      "Epoch: 2/50...  Loss: 0.3716\n",
      "Epoch: 2/50...  Loss: 0.3788\n",
      "Epoch: 2/50...  Loss: 0.3553\n",
      "Epoch: 3/50...  Loss: 0.0854\n",
      "Epoch: 3/50...  Loss: 0.3408\n",
      "Epoch: 3/50...  Loss: 0.3355\n",
      "Epoch: 3/50...  Loss: 0.3283\n",
      "Epoch: 3/50...  Loss: 0.3551\n",
      "Epoch: 3/50...  Loss: 0.3441\n",
      "Epoch: 3/50...  Loss: 0.3240\n",
      "Epoch: 3/50...  Loss: 0.3534\n",
      "Epoch: 3/50...  Loss: 0.3296\n",
      "Epoch: 3/50...  Loss: 0.3361\n",
      "Epoch: 4/50...  Loss: 0.2714\n",
      "Epoch: 4/50...  Loss: 0.3125\n",
      "Epoch: 4/50...  Loss: 0.3002\n",
      "Epoch: 4/50...  Loss: 0.3114\n",
      "Epoch: 4/50...  Loss: 0.3108\n",
      "Epoch: 4/50...  Loss: 0.3168\n",
      "Epoch: 4/50...  Loss: 0.3015\n",
      "Epoch: 4/50...  Loss: 0.3134\n",
      "Epoch: 4/50...  Loss: 0.3222\n",
      "Epoch: 5/50...  Loss: 0.1351\n",
      "Epoch: 5/50...  Loss: 0.2812\n",
      "Epoch: 5/50...  Loss: 0.3016\n",
      "Epoch: 5/50...  Loss: 0.2971\n",
      "Epoch: 5/50...  Loss: 0.2938\n",
      "Epoch: 5/50...  Loss: 0.2909\n",
      "Epoch: 5/50...  Loss: 0.2791\n",
      "Epoch: 5/50...  Loss: 0.2990\n",
      "Epoch: 5/50...  Loss: 0.2977\n",
      "Epoch: 6/50...  Loss: 0.0265\n",
      "Epoch: 6/50...  Loss: 0.2731\n",
      "Epoch: 6/50...  Loss: 0.2856\n",
      "Epoch: 6/50...  Loss: 0.2768\n",
      "Epoch: 6/50...  Loss: 0.2715\n",
      "Epoch: 6/50...  Loss: 0.2834\n",
      "Epoch: 6/50...  Loss: 0.2733\n",
      "Epoch: 6/50...  Loss: 0.2802\n",
      "Epoch: 6/50...  Loss: 0.2755\n",
      "Epoch: 6/50...  Loss: 0.2717\n",
      "Epoch: 7/50...  Loss: 0.1790\n",
      "Epoch: 7/50...  Loss: 0.2597\n",
      "Epoch: 7/50...  Loss: 0.2578\n",
      "Epoch: 7/50...  Loss: 0.2577\n",
      "Epoch: 7/50...  Loss: 0.2537\n",
      "Epoch: 7/50...  Loss: 0.2653\n",
      "Epoch: 7/50...  Loss: 0.2579\n",
      "Epoch: 7/50...  Loss: 0.2725\n",
      "Epoch: 7/50...  Loss: 0.2673\n",
      "Epoch: 8/50...  Loss: 0.0791\n",
      "Epoch: 8/50...  Loss: 0.2360\n",
      "Epoch: 8/50...  Loss: 0.2528\n",
      "Epoch: 8/50...  Loss: 0.2506\n",
      "Epoch: 8/50...  Loss: 0.2609\n",
      "Epoch: 8/50...  Loss: 0.2636\n",
      "Epoch: 8/50...  Loss: 0.2405\n",
      "Epoch: 8/50...  Loss: 0.2540\n",
      "Epoch: 8/50...  Loss: 0.2502\n",
      "Epoch: 8/50...  Loss: 0.2348\n",
      "Epoch: 9/50...  Loss: 0.2261\n",
      "Epoch: 9/50...  Loss: 0.2428\n",
      "Epoch: 9/50...  Loss: 0.2368\n",
      "Epoch: 9/50...  Loss: 0.2308\n",
      "Epoch: 9/50...  Loss: 0.2380\n",
      "Epoch: 9/50...  Loss: 0.2385\n",
      "Epoch: 9/50...  Loss: 0.2358\n",
      "Epoch: 9/50...  Loss: 0.2527\n",
      "Epoch: 9/50...  Loss: 0.2374\n",
      "Epoch: 10/50...  Loss: 0.1292\n",
      "Epoch: 10/50...  Loss: 0.2181\n",
      "Epoch: 10/50...  Loss: 0.2315\n",
      "Epoch: 10/50...  Loss: 0.2383\n",
      "Epoch: 10/50...  Loss: 0.2365\n",
      "Epoch: 10/50...  Loss: 0.2274\n",
      "Epoch: 10/50...  Loss: 0.2246\n",
      "Epoch: 10/50...  Loss: 0.2164\n",
      "Epoch: 10/50...  Loss: 0.2239\n",
      "Epoch: 11/50...  Loss: 0.0437\n",
      "Epoch: 11/50...  Loss: 0.2036\n",
      "Epoch: 11/50...  Loss: 0.2276\n",
      "Epoch: 11/50...  Loss: 0.2275\n",
      "Epoch: 11/50...  Loss: 0.2322\n",
      "Epoch: 11/50...  Loss: 0.2013\n",
      "Epoch: 11/50...  Loss: 0.2203\n",
      "Epoch: 11/50...  Loss: 0.2181\n",
      "Epoch: 11/50...  Loss: 0.2139\n",
      "Epoch: 11/50...  Loss: 0.2063\n",
      "Epoch: 12/50...  Loss: 0.1669\n",
      "Epoch: 12/50...  Loss: 0.1974\n",
      "Epoch: 12/50...  Loss: 0.2044\n",
      "Epoch: 12/50...  Loss: 0.2053\n",
      "Epoch: 12/50...  Loss: 0.2269\n",
      "Epoch: 12/50...  Loss: 0.2047\n",
      "Epoch: 12/50...  Loss: 0.2176\n",
      "Epoch: 12/50...  Loss: 0.2206\n",
      "Epoch: 12/50...  Loss: 0.2055\n",
      "Epoch: 13/50...  Loss: 0.0798\n",
      "Epoch: 13/50...  Loss: 0.1904\n",
      "Epoch: 13/50...  Loss: 0.1976\n",
      "Epoch: 13/50...  Loss: 0.2030\n",
      "Epoch: 13/50...  Loss: 0.1984\n",
      "Epoch: 13/50...  Loss: 0.2045\n",
      "Epoch: 13/50...  Loss: 0.2075\n",
      "Epoch: 13/50...  Loss: 0.2020\n",
      "Epoch: 13/50...  Loss: 0.2109\n",
      "Epoch: 14/50...  Loss: 0.0119\n",
      "Epoch: 14/50...  Loss: 0.1706\n",
      "Epoch: 14/50...  Loss: 0.1757\n",
      "Epoch: 14/50...  Loss: 0.1971\n",
      "Epoch: 14/50...  Loss: 0.1861\n",
      "Epoch: 14/50...  Loss: 0.1931\n",
      "Epoch: 14/50...  Loss: 0.1939\n",
      "Epoch: 14/50...  Loss: 0.2050\n",
      "Epoch: 14/50...  Loss: 0.1996\n",
      "Epoch: 14/50...  Loss: 0.2101\n",
      "Epoch: 15/50...  Loss: 0.1351\n",
      "Epoch: 15/50...  Loss: 0.1664\n",
      "Epoch: 15/50...  Loss: 0.1809\n",
      "Epoch: 15/50...  Loss: 0.1851\n",
      "Epoch: 15/50...  Loss: 0.1960\n",
      "Epoch: 15/50...  Loss: 0.1917\n",
      "Epoch: 15/50...  Loss: 0.1858\n",
      "Epoch: 15/50...  Loss: 0.1810\n",
      "Epoch: 15/50...  Loss: 0.1974\n",
      "Epoch: 16/50...  Loss: 0.0452\n",
      "Epoch: 16/50...  Loss: 0.1634\n",
      "Epoch: 16/50...  Loss: 0.1788\n",
      "Epoch: 16/50...  Loss: 0.1721\n",
      "Epoch: 16/50...  Loss: 0.1820\n",
      "Epoch: 16/50...  Loss: 0.1798\n",
      "Epoch: 16/50...  Loss: 0.1799\n",
      "Epoch: 16/50...  Loss: 0.1821\n",
      "Epoch: 16/50...  Loss: 0.1909\n",
      "Epoch: 16/50...  Loss: 0.1893\n",
      "Epoch: 17/50...  Loss: 0.1570\n",
      "Epoch: 17/50...  Loss: 0.1686\n",
      "Epoch: 17/50...  Loss: 0.1719\n",
      "Epoch: 17/50...  Loss: 0.1576\n",
      "Epoch: 17/50...  Loss: 0.1613\n",
      "Epoch: 17/50...  Loss: 0.1655\n",
      "Epoch: 17/50...  Loss: 0.1946\n",
      "Epoch: 17/50...  Loss: 0.1717\n",
      "Epoch: 17/50...  Loss: 0.1621\n",
      "Epoch: 18/50...  Loss: 0.0899\n",
      "Epoch: 18/50...  Loss: 0.1514\n",
      "Epoch: 18/50...  Loss: 0.1464\n",
      "Epoch: 18/50...  Loss: 0.1671\n",
      "Epoch: 18/50...  Loss: 0.1548\n",
      "Epoch: 18/50...  Loss: 0.1547\n",
      "Epoch: 18/50...  Loss: 0.1752\n",
      "Epoch: 18/50...  Loss: 0.1742\n",
      "Epoch: 18/50...  Loss: 0.1783\n",
      "Epoch: 19/50...  Loss: 0.0211\n",
      "Epoch: 19/50...  Loss: 0.1586\n",
      "Epoch: 19/50...  Loss: 0.1525\n",
      "Epoch: 19/50...  Loss: 0.1624\n",
      "Epoch: 19/50...  Loss: 0.1430\n",
      "Epoch: 19/50...  Loss: 0.1555\n",
      "Epoch: 19/50...  Loss: 0.1605\n",
      "Epoch: 19/50...  Loss: 0.1541\n",
      "Epoch: 19/50...  Loss: 0.1638\n",
      "Epoch: 19/50...  Loss: 0.1677\n",
      "Epoch: 20/50...  Loss: 0.0994\n",
      "Epoch: 20/50...  Loss: 0.1359\n",
      "Epoch: 20/50...  Loss: 0.1610\n",
      "Epoch: 20/50...  Loss: 0.1575\n",
      "Epoch: 20/50...  Loss: 0.1436\n",
      "Epoch: 20/50...  Loss: 0.1711\n",
      "Epoch: 20/50...  Loss: 0.1420\n",
      "Epoch: 20/50...  Loss: 0.1597\n",
      "Epoch: 20/50...  Loss: 0.1668\n",
      "Epoch: 21/50...  Loss: 0.0586\n",
      "Epoch: 21/50...  Loss: 0.1274\n",
      "Epoch: 21/50...  Loss: 0.1368\n",
      "Epoch: 21/50...  Loss: 0.1396\n",
      "Epoch: 21/50...  Loss: 0.1366\n",
      "Epoch: 21/50...  Loss: 0.1378\n",
      "Epoch: 21/50...  Loss: 0.1507\n",
      "Epoch: 21/50...  Loss: 0.1462\n",
      "Epoch: 21/50...  Loss: 0.1593\n",
      "Epoch: 22/50...  Loss: 0.0038\n",
      "Epoch: 22/50...  Loss: 0.1351\n",
      "Epoch: 22/50...  Loss: 0.1240\n",
      "Epoch: 22/50...  Loss: 0.1405\n",
      "Epoch: 22/50...  Loss: 0.1458\n",
      "Epoch: 22/50...  Loss: 0.1342\n",
      "Epoch: 22/50...  Loss: 0.1533\n",
      "Epoch: 22/50...  Loss: 0.1361\n",
      "Epoch: 22/50...  Loss: 0.1507\n",
      "Epoch: 22/50...  Loss: 0.1300\n",
      "Epoch: 23/50...  Loss: 0.0788\n",
      "Epoch: 23/50...  Loss: 0.1244\n",
      "Epoch: 23/50...  Loss: 0.1449\n",
      "Epoch: 23/50...  Loss: 0.1404\n",
      "Epoch: 23/50...  Loss: 0.1334\n",
      "Epoch: 23/50...  Loss: 0.1315\n",
      "Epoch: 23/50...  Loss: 0.1367\n",
      "Epoch: 23/50...  Loss: 0.1301\n",
      "Epoch: 23/50...  Loss: 0.1463\n",
      "Epoch: 24/50...  Loss: 0.0327\n",
      "Epoch: 24/50...  Loss: 0.1298\n",
      "Epoch: 24/50...  Loss: 0.1231\n",
      "Epoch: 24/50...  Loss: 0.1222\n",
      "Epoch: 24/50...  Loss: 0.1252\n",
      "Epoch: 24/50...  Loss: 0.1373\n",
      "Epoch: 24/50...  Loss: 0.1297\n",
      "Epoch: 24/50...  Loss: 0.1265\n",
      "Epoch: 24/50...  Loss: 0.1341\n",
      "Epoch: 24/50...  Loss: 0.1411\n",
      "Epoch: 25/50...  Loss: 0.1111\n",
      "Epoch: 25/50...  Loss: 0.1155\n",
      "Epoch: 25/50...  Loss: 0.1220\n",
      "Epoch: 25/50...  Loss: 0.1292\n",
      "Epoch: 25/50...  Loss: 0.1268\n",
      "Epoch: 25/50...  Loss: 0.1259\n",
      "Epoch: 25/50...  Loss: 0.1210\n",
      "Epoch: 25/50...  Loss: 0.1368\n",
      "Epoch: 25/50...  Loss: 0.1350\n",
      "Epoch: 26/50...  Loss: 0.0561\n",
      "Epoch: 26/50...  Loss: 0.1144\n",
      "Epoch: 26/50...  Loss: 0.1093\n",
      "Epoch: 26/50...  Loss: 0.1122\n",
      "Epoch: 26/50...  Loss: 0.1202\n",
      "Epoch: 26/50...  Loss: 0.1202\n",
      "Epoch: 26/50...  Loss: 0.1276\n",
      "Epoch: 26/50...  Loss: 0.1294\n",
      "Epoch: 26/50...  Loss: 0.1331\n",
      "Epoch: 27/50...  Loss: 0.0138\n",
      "Epoch: 27/50...  Loss: 0.1056\n",
      "Epoch: 27/50...  Loss: 0.1328\n",
      "Epoch: 27/50...  Loss: 0.1141\n",
      "Epoch: 27/50...  Loss: 0.1197\n",
      "Epoch: 27/50...  Loss: 0.1106\n",
      "Epoch: 27/50...  Loss: 0.1228\n",
      "Epoch: 27/50...  Loss: 0.1220\n",
      "Epoch: 27/50...  Loss: 0.1214\n",
      "Epoch: 27/50...  Loss: 0.1161\n",
      "Epoch: 28/50...  Loss: 0.0790\n",
      "Epoch: 28/50...  Loss: 0.1008\n",
      "Epoch: 28/50...  Loss: 0.1163\n",
      "Epoch: 28/50...  Loss: 0.1001\n",
      "Epoch: 28/50...  Loss: 0.1155\n",
      "Epoch: 28/50...  Loss: 0.1088\n",
      "Epoch: 28/50...  Loss: 0.1080\n",
      "Epoch: 28/50...  Loss: 0.1277\n",
      "Epoch: 28/50...  Loss: 0.1202\n",
      "Epoch: 29/50...  Loss: 0.0374\n",
      "Epoch: 29/50...  Loss: 0.1057\n",
      "Epoch: 29/50...  Loss: 0.0902\n",
      "Epoch: 29/50...  Loss: 0.1086\n",
      "Epoch: 29/50...  Loss: 0.1217\n",
      "Epoch: 29/50...  Loss: 0.1107\n",
      "Epoch: 29/50...  Loss: 0.1097\n",
      "Epoch: 29/50...  Loss: 0.1015\n",
      "Epoch: 29/50...  Loss: 0.1117\n",
      "Epoch: 29/50...  Loss: 0.1164\n",
      "Epoch: 30/50...  Loss: 0.0909\n",
      "Epoch: 30/50...  Loss: 0.1000\n",
      "Epoch: 30/50...  Loss: 0.1103\n",
      "Epoch: 30/50...  Loss: 0.1002\n"
     ]
    },
    {
     "name": "stdout",
     "output_type": "stream",
     "text": [
      "Epoch: 30/50...  Loss: 0.1101\n",
      "Epoch: 30/50...  Loss: 0.1086\n",
      "Epoch: 30/50...  Loss: 0.1021\n",
      "Epoch: 30/50...  Loss: 0.1092\n",
      "Epoch: 30/50...  Loss: 0.1095\n",
      "Epoch: 31/50...  Loss: 0.0595\n",
      "Epoch: 31/50...  Loss: 0.0892\n",
      "Epoch: 31/50...  Loss: 0.1038\n",
      "Epoch: 31/50...  Loss: 0.1008\n",
      "Epoch: 31/50...  Loss: 0.1150\n",
      "Epoch: 31/50...  Loss: 0.1060\n",
      "Epoch: 31/50...  Loss: 0.1075\n",
      "Epoch: 31/50...  Loss: 0.0927\n",
      "Epoch: 31/50...  Loss: 0.1059\n",
      "Epoch: 32/50...  Loss: 0.0175\n",
      "Epoch: 32/50...  Loss: 0.0977\n",
      "Epoch: 32/50...  Loss: 0.0965\n",
      "Epoch: 32/50...  Loss: 0.0993\n",
      "Epoch: 32/50...  Loss: 0.1045\n",
      "Epoch: 32/50...  Loss: 0.0842\n",
      "Epoch: 32/50...  Loss: 0.0997\n",
      "Epoch: 32/50...  Loss: 0.1117\n",
      "Epoch: 32/50...  Loss: 0.1065\n",
      "Epoch: 32/50...  Loss: 0.1106\n",
      "Epoch: 33/50...  Loss: 0.0701\n",
      "Epoch: 33/50...  Loss: 0.0960\n",
      "Epoch: 33/50...  Loss: 0.0836\n",
      "Epoch: 33/50...  Loss: 0.0979\n",
      "Epoch: 33/50...  Loss: 0.1025\n",
      "Epoch: 33/50...  Loss: 0.0968\n",
      "Epoch: 33/50...  Loss: 0.1146\n",
      "Epoch: 33/50...  Loss: 0.0964\n",
      "Epoch: 33/50...  Loss: 0.0981\n",
      "Epoch: 34/50...  Loss: 0.0382\n",
      "Epoch: 34/50...  Loss: 0.0871\n",
      "Epoch: 34/50...  Loss: 0.0758\n",
      "Epoch: 34/50...  Loss: 0.0898\n",
      "Epoch: 34/50...  Loss: 0.1064\n",
      "Epoch: 34/50...  Loss: 0.0991\n",
      "Epoch: 34/50...  Loss: 0.1050\n",
      "Epoch: 34/50...  Loss: 0.1032\n",
      "Epoch: 34/50...  Loss: 0.1056\n",
      "Epoch: 35/50...  Loss: 0.0076\n",
      "Epoch: 35/50...  Loss: 0.0751\n",
      "Epoch: 35/50...  Loss: 0.0811\n",
      "Epoch: 35/50...  Loss: 0.1016\n",
      "Epoch: 35/50...  Loss: 0.0931\n",
      "Epoch: 35/50...  Loss: 0.1008\n",
      "Epoch: 35/50...  Loss: 0.0943\n",
      "Epoch: 35/50...  Loss: 0.0974\n",
      "Epoch: 35/50...  Loss: 0.0950\n",
      "Epoch: 35/50...  Loss: 0.0947\n",
      "Epoch: 36/50...  Loss: 0.0534\n",
      "Epoch: 36/50...  Loss: 0.0810\n",
      "Epoch: 36/50...  Loss: 0.0781\n",
      "Epoch: 36/50...  Loss: 0.0860\n",
      "Epoch: 36/50...  Loss: 0.0765\n",
      "Epoch: 36/50...  Loss: 0.0817\n",
      "Epoch: 36/50...  Loss: 0.0819\n",
      "Epoch: 36/50...  Loss: 0.0964\n",
      "Epoc"
     ]
    },
    {
     "data": {
      "text/html": [
       "<b>limit_output extension: Maximum message size of 10000 exceeded with 10026 characters</b>"
      ]
     },
     "metadata": {},
     "output_type": "display_data"
    }
   ],
   "source": [
    "epochs = 50\n",
    "print_every = 100\n",
    "steps = 0\n",
    "\n",
    "\n",
    "for e in range(epochs):\n",
    "    running_loss =0\n",
    "    for images, labels in iter(trainloader):\n",
    "        \n",
    "        steps += 1\n",
    "        # Flatten MNIST images into a 784 long vector\n",
    "        images.resize_(images.size()[0],input_size)\n",
    "        optimizer.zero_grad()\n",
    "        \n",
    "        # Forward and backward passes\n",
    "        output = model.forward(images)\n",
    "        loss = criterion(output,labels)\n",
    "        loss.backward()\n",
    "        optimizer.step()\n",
    "        \n",
    "        running_loss += loss.item()\n",
    "        \n",
    "        if steps % print_every == 0:\n",
    "            print(\"Epoch: {}/{}... \".format(e+1, epochs),\n",
    "                  \"Loss: {:.4f}\".format(running_loss/print_every))\n",
    "            \n",
    "            running_loss = 0\n",
    "        "
   ]
  },
  {
   "cell_type": "markdown",
   "metadata": {
    "ExecuteTime": {
     "end_time": "2018-07-02T17:51:34.483791Z",
     "start_time": "2018-07-02T17:51:34.117845Z"
    }
   },
   "source": [
    "Next we'll test out our network on the test set"
   ]
  },
  {
   "cell_type": "code",
   "execution_count": 95,
   "metadata": {
    "ExecuteTime": {
     "end_time": "2018-07-15T18:01:53.953301Z",
     "start_time": "2018-07-15T18:01:53.929714Z"
    }
   },
   "outputs": [],
   "source": [
    "def view_classify(img, ps):\n",
    "    ''' Function for viewing an image and it's predicted classes.\n",
    "    '''\n",
    "    ps = ps.data.numpy().squeeze()\n",
    "\n",
    "    fig, (ax1, ax2) = plt.subplots(figsize=(6,9), ncols=2)\n",
    "    ax1.imshow(img.resize_(1, 28, 28).numpy().squeeze())\n",
    "    ax1.axis('off')\n",
    "    ax2.barh(np.arange(10), ps)\n",
    "    ax2.set_aspect(0.1)\n",
    "    ax2.set_yticks(np.arange(10))\n",
    "    ax2.set_yticklabels(['T-shirt/top',\n",
    "                            'Trouser',\n",
    "                            'Pullover',\n",
    "                            'Dress',\n",
    "                            'Coat',\n",
    "                            'Sandal',\n",
    "                            'Shirt',\n",
    "                            'Sneaker',\n",
    "                            'Bag',\n",
    "                            'Ankle Boot'], size='small');\n",
    "    ax2.set_title('Class Probability')\n",
    "    ax2.set_xlim(0, 1.1)\n",
    "\n",
    "    plt.tight_layout()\n"
   ]
  },
  {
   "cell_type": "code",
   "execution_count": 100,
   "metadata": {
    "ExecuteTime": {
     "end_time": "2018-07-15T18:03:21.766047Z",
     "start_time": "2018-07-15T18:03:21.399607Z"
    }
   },
   "outputs": [
    {
     "data": {
      "image/png": "[encoded data removed]",
      "text/plain": [
       "<Figure size 432x648 with 2 Axes>"
      ]
     },
     "metadata": {
      "image/png": {
       "height": 204,
       "width": 423
      }
     },
     "output_type": "display_data"
    }
   ],
   "source": [
    "dataiter = iter(testloader)\n",
    "images, labels = dataiter.next()\n",
    "img = images[0]\n",
    "# Convert 2D image to 1D vector\n",
    "img = img.resize_(1, 784)\n",
    "\n",
    "\n",
    "with torch.no_grad():\n",
    "    logits = model.forward(img)\n",
    "    \n",
    "# Output of the network are logits, need to take softmax for probabilities\n",
    "ps = F.softmax(logits, dim=1)\n",
    "\n",
    "# Plot the image and probabilities\n",
    "view_classify(img.resize_(1, 28, 28), ps)"
   ]
  },
  {
   "cell_type": "markdown",
   "metadata": {},
   "source": [
    "Now that your network is trained, we  want to save it to disk so we can load it later instead of training it again. Obviously, it's impractical to train a network every time you need one. In practice, you'll train it once, save the model, then reload it for further training or making predictions. The parameters for PyTorch networks are stored in a model's `state_dict`. We can see the state dict contains the weight and bias matrices for each of our layers."
   ]
  },
  {
   "cell_type": "code",
   "execution_count": 106,
   "metadata": {
    "ExecuteTime": {
     "end_time": "2018-07-15T18:57:10.480343Z",
     "start_time": "2018-07-15T18:57:10.461230Z"
    }
   },
   "outputs": [
    {
     "name": "stdout",
     "output_type": "stream",
     "text": [
      "Our model: \n",
      "\n",
      " Sequential(\n",
      "  (fc1): Linear(in_features=784, out_features=256, bias=True)\n",
      "  (relu1): ReLU()\n",
      "  (fc2): Linear(in_features=256, out_features=128, bias=True)\n",
      "  (relu2): ReLU()\n",
      "  (fc3): Linear(in_features=128, out_features=64, bias=True)\n",
      "  (relu3): ReLU()\n",
      "  (logits): Linear(in_features=64, out_features=10, bias=True)\n",
      ") \n",
      "\n",
      "The state dict keys: \n",
      "\n",
      " odict_keys(['fc1.weight', 'fc1.bias', 'fc2.weight', 'fc2.bias', 'fc3.weight', 'fc3.bias', 'logits.weight', 'logits.bias'])\n"
     ]
    }
   ],
   "source": [
    "print(\"Our model: \\n\\n\", model, '\\n')\n",
    "print(\"The state dict keys: \\n\\n\", model.state_dict().keys())"
   ]
  },
  {
   "cell_type": "code",
   "execution_count": 107,
   "metadata": {
    "ExecuteTime": {
     "end_time": "2018-07-15T18:57:36.283358Z",
     "start_time": "2018-07-15T18:57:36.040953Z"
    }
   },
   "outputs": [],
   "source": [
    "torch.save(model.state_dict(), 'checkpoint.pth')"
   ]
  }
 ],
 "metadata": {
  "kernelspec": {
   "display_name": "Python [conda env:tensorflow]",
   "language": "python",
   "name": "conda-env-tensorflow-py"
  },
  "language_info": {
   "codemirror_mode": {
    "name": "ipython",
    "version": 3
   },
   "file_extension": ".py",
   "mimetype": "text/x-python",
   "name": "python",
   "nbconvert_exporter": "python",
   "pygments_lexer": "ipython3",
   "version": "3.6.4"
  },
  "toc": {
   "base_numbering": 1,
   "nav_menu": {},
   "number_sections": true,
   "sideBar": true,
   "skip_h1_title": false,
   "title_cell": "Table of Contents",
   "title_sidebar": "Contents",
   "toc_cell": false,
   "toc_position": {},
   "toc_section_display": true,
   "toc_window_display": true
  }
 },
 "nbformat": 4,
 "nbformat_minor": 2
}
